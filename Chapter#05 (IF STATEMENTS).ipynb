{
 "cells": [
  {
   "cell_type": "code",
   "execution_count": 7,
   "id": "34423d9a",
   "metadata": {},
   "outputs": [
    {
     "name": "stdout",
     "output_type": "stream",
     "text": [
      "Audi\n",
      "BMW\n",
      "Subaru\n",
      "Toyota\n"
     ]
    }
   ],
   "source": [
    "#Name: Dildar Ali\n",
    "#Date: 22/June/2022\n",
    "cars = ['audi', 'bmw', 'subaru', 'toyota']\n",
    "for car in cars:\n",
    "     if car == 'bmw':\n",
    "             print(car.upper())\n",
    "     else:\n",
    "         print(car.title())"
   ]
  },
  {
   "cell_type": "code",
   "execution_count": 8,
   "id": "4d6edefb",
   "metadata": {},
   "outputs": [
    {
     "data": {
      "text/plain": [
       "True"
      ]
     },
     "execution_count": 8,
     "metadata": {},
     "output_type": "execute_result"
    }
   ],
   "source": [
    "name=\"Dildar\"\n",
    "name==\"Dildar\""
   ]
  },
  {
   "cell_type": "code",
   "execution_count": 9,
   "id": "768a86aa",
   "metadata": {},
   "outputs": [
    {
     "data": {
      "text/plain": [
       "False"
      ]
     },
     "execution_count": 9,
     "metadata": {},
     "output_type": "execute_result"
    }
   ],
   "source": [
    "name=\"Dildar\"\n",
    "name==\"dildar\""
   ]
  },
  {
   "cell_type": "code",
   "execution_count": 12,
   "id": "61270d2c",
   "metadata": {},
   "outputs": [
    {
     "data": {
      "text/plain": [
       "True"
      ]
     },
     "execution_count": 12,
     "metadata": {},
     "output_type": "execute_result"
    }
   ],
   "source": [
    "name.lower()==\"dildar\""
   ]
  },
  {
   "cell_type": "code",
   "execution_count": 14,
   "id": "2bcf5fe3",
   "metadata": {},
   "outputs": [
    {
     "data": {
      "text/plain": [
       "18"
      ]
     },
     "execution_count": 14,
     "metadata": {},
     "output_type": "execute_result"
    }
   ],
   "source": [
    "age=18\n",
    "age\n"
   ]
  },
  {
   "cell_type": "code",
   "execution_count": 15,
   "id": "0247c9f2",
   "metadata": {},
   "outputs": [
    {
     "data": {
      "text/plain": [
       "False"
      ]
     },
     "execution_count": 15,
     "metadata": {},
     "output_type": "execute_result"
    }
   ],
   "source": [
    "age==20"
   ]
  },
  {
   "cell_type": "code",
   "execution_count": 19,
   "id": "6d432afe",
   "metadata": {},
   "outputs": [
    {
     "data": {
      "text/plain": [
       "True"
      ]
     },
     "execution_count": 19,
     "metadata": {},
     "output_type": "execute_result"
    }
   ],
   "source": [
    "age>10"
   ]
  },
  {
   "cell_type": "code",
   "execution_count": 21,
   "id": "3fd4db85",
   "metadata": {},
   "outputs": [
    {
     "name": "stdout",
     "output_type": "stream",
     "text": [
      "You have entered incorrect number. Please try again!\n"
     ]
    }
   ],
   "source": [
    "number=17\n",
    "if number!=20:\n",
    "    print(\"You have entered incorrect number. Please try again!\")"
   ]
  },
  {
   "cell_type": "code",
   "execution_count": 22,
   "id": "97db9644",
   "metadata": {},
   "outputs": [
    {
     "data": {
      "text/plain": [
       "True"
      ]
     },
     "execution_count": 22,
     "metadata": {},
     "output_type": "execute_result"
    }
   ],
   "source": [
    "age<19"
   ]
  },
  {
   "cell_type": "code",
   "execution_count": 23,
   "id": "aa18f494",
   "metadata": {},
   "outputs": [
    {
     "data": {
      "text/plain": [
       "True"
      ]
     },
     "execution_count": 23,
     "metadata": {},
     "output_type": "execute_result"
    }
   ],
   "source": [
    "age==18"
   ]
  },
  {
   "cell_type": "code",
   "execution_count": 24,
   "id": "3422b0f8",
   "metadata": {},
   "outputs": [
    {
     "data": {
      "text/plain": [
       "True"
      ]
     },
     "execution_count": 24,
     "metadata": {},
     "output_type": "execute_result"
    }
   ],
   "source": [
    "age%6==0"
   ]
  },
  {
   "cell_type": "code",
   "execution_count": 25,
   "id": "950f5f9b",
   "metadata": {},
   "outputs": [
    {
     "data": {
      "text/plain": [
       "False"
      ]
     },
     "execution_count": 25,
     "metadata": {},
     "output_type": "execute_result"
    }
   ],
   "source": [
    "age>20"
   ]
  },
  {
   "cell_type": "code",
   "execution_count": 26,
   "id": "5378b75c",
   "metadata": {},
   "outputs": [
    {
     "data": {
      "text/plain": [
       "False"
      ]
     },
     "execution_count": 26,
     "metadata": {},
     "output_type": "execute_result"
    }
   ],
   "source": [
    "age%5==0"
   ]
  },
  {
   "cell_type": "code",
   "execution_count": 27,
   "id": "e36f3680",
   "metadata": {},
   "outputs": [
    {
     "data": {
      "text/plain": [
       "True"
      ]
     },
     "execution_count": 27,
     "metadata": {},
     "output_type": "execute_result"
    }
   ],
   "source": [
    "names=[\"Bilal\",\"Dildar\",\"Ali\"]\n",
    "\"Dildar\" in names"
   ]
  },
  {
   "cell_type": "code",
   "execution_count": 30,
   "id": "647491c1",
   "metadata": {},
   "outputs": [
    {
     "data": {
      "text/plain": [
       "True"
      ]
     },
     "execution_count": 30,
     "metadata": {},
     "output_type": "execute_result"
    }
   ],
   "source": [
    "\"Bilal\" in names"
   ]
  },
  {
   "cell_type": "code",
   "execution_count": 31,
   "id": "1a4bd231",
   "metadata": {},
   "outputs": [
    {
     "data": {
      "text/plain": [
       "False"
      ]
     },
     "execution_count": 31,
     "metadata": {},
     "output_type": "execute_result"
    }
   ],
   "source": [
    "\"bilal\" in names"
   ]
  },
  {
   "cell_type": "code",
   "execution_count": 32,
   "id": "4193439a",
   "metadata": {},
   "outputs": [
    {
     "name": "stdout",
     "output_type": "stream",
     "text": [
      "Ali Let's go to party!\n"
     ]
    }
   ],
   "source": [
    "brothers=[\"Ghulam\",\"Khadim\",\"Yameen\"]\n",
    "friend=\"ali\"\n",
    "if friend not in brothers:\n",
    "    print(friend.title(),\"Let's go to party!\")"
   ]
  },
  {
   "cell_type": "code",
   "execution_count": 35,
   "id": "e8f8d20f",
   "metadata": {},
   "outputs": [
    {
     "name": "stdout",
     "output_type": "stream",
     "text": [
      "Is car == 'Suzuki'? I predict True.\n",
      "True\n",
      "\n",
      "Is car == 'audi'? I predict False.\n",
      "False\n"
     ]
    }
   ],
   "source": [
    "#TASK\n",
    "#5-1. Conditional Tests: Write a series of conditional tests. Print a statement describing each test and your prediction for the results of each test. Your code should look something like this.\n",
    "#car = 'subaru'\n",
    "#print(\"Is car == 'subaru'? I predict True.\")\n",
    "#print(car == 'subaru')\n",
    "\n",
    "#print(\"\\nIs car == 'audi'? I predict False.\")\n",
    "#print(car == 'audi')\n",
    "\n",
    "car = 'Suzuki'\n",
    "print(\"Is car == 'Suzuki'? I predict True.\")\n",
    "print(car == 'Suzuki')\n",
    "\n",
    "print(\"\\nIs car == 'audi'? I predict False.\")\n",
    "print(car == 'audi')"
   ]
  },
  {
   "cell_type": "code",
   "execution_count": 38,
   "id": "ae6fb09f",
   "metadata": {},
   "outputs": [
    {
     "name": "stdout",
     "output_type": "stream",
     "text": [
      "Is name == 'Dildar'? I predict True.\n",
      "True\n",
      "\n",
      "Is name == 'ali'? I predict False.\n",
      "False\n"
     ]
    }
   ],
   "source": [
    "name=\"Dildar\"\n",
    "print(\"Is name == 'Dildar'? I predict True.\")\n",
    "print(name == 'Dildar')\n",
    "\n",
    "print(\"\\nIs name == 'ali'? I predict False.\")\n",
    "print(name == 'ali')"
   ]
  },
  {
   "cell_type": "code",
   "execution_count": 39,
   "id": "d3c65af6",
   "metadata": {},
   "outputs": [
    {
     "name": "stdout",
     "output_type": "stream",
     "text": [
      "Is name == 'dildar'? I predict False.\n",
      "False\n",
      "\n",
      "Is name == 'Dildar'? I predict true.\n",
      "True\n"
     ]
    }
   ],
   "source": [
    "name=\"Dildar\"\n",
    "print(\"Is name == 'dildar'? I predict False.\")\n",
    "print(name == 'dildar')\n",
    "\n",
    "print(\"\\nIs name == 'Dildar'? I predict true.\")\n",
    "print(name == 'Dildar')"
   ]
  },
  {
   "cell_type": "code",
   "execution_count": 40,
   "id": "6a05d1ae",
   "metadata": {},
   "outputs": [
    {
     "name": "stdout",
     "output_type": "stream",
     "text": [
      "Is score == 90 ? I predict True.\n",
      "True\n",
      "Is score == 80 ? I predict False.\n",
      "False\n"
     ]
    }
   ],
   "source": [
    "score=90\n",
    "print(\"Is score == 90 ? I predict True.\")\n",
    "print(score == 90)\n",
    "\n",
    "print(\"Is score == 80 ? I predict False.\")\n",
    "print(score == 80)"
   ]
  },
  {
   "cell_type": "code",
   "execution_count": 43,
   "id": "35c43d17",
   "metadata": {},
   "outputs": [
    {
     "data": {
      "text/plain": [
       "False"
      ]
     },
     "execution_count": 43,
     "metadata": {},
     "output_type": "execute_result"
    }
   ],
   "source": [
    "#5.2\n",
    "#More Conditional Tests: You don’t have to limit the number of tests you create to 10. If you want to try more comparisons, write more tests and add them to conditional_tests.py. Have at least one True and one False result for each of the following:\n",
    "#• Tests for equality and inequality with strings\n",
    "#• Tests using the lower() function\n",
    "#• Numerical tests involving equality and inequality, greater than and less than, greater than or equal to, and less than or equal to\n",
    "#• Tests using the and keyword and the or keyword\n",
    "#• Test whether an item is in a list\n",
    "#• Test whether an item is not in a list\n",
    "\n",
    "#1\n",
    "name=\"Dildar\"\n",
    "name==\"Ali\"\n",
    "\n"
   ]
  },
  {
   "cell_type": "code",
   "execution_count": 44,
   "id": "faa28389",
   "metadata": {},
   "outputs": [
    {
     "data": {
      "text/plain": [
       "True"
      ]
     },
     "execution_count": 44,
     "metadata": {},
     "output_type": "execute_result"
    }
   ],
   "source": [
    "name=\"Dildar\"\n",
    "name==\"Dildar\""
   ]
  },
  {
   "cell_type": "code",
   "execution_count": 45,
   "id": "f57f57b3",
   "metadata": {},
   "outputs": [
    {
     "data": {
      "text/plain": [
       "True"
      ]
     },
     "execution_count": 45,
     "metadata": {},
     "output_type": "execute_result"
    }
   ],
   "source": [
    "#2\n",
    "name=\"Ali\"\n",
    "name.lower()==\"ali\""
   ]
  },
  {
   "cell_type": "code",
   "execution_count": 46,
   "id": "2f09d288",
   "metadata": {},
   "outputs": [
    {
     "data": {
      "text/plain": [
       "False"
      ]
     },
     "execution_count": 46,
     "metadata": {},
     "output_type": "execute_result"
    }
   ],
   "source": [
    "name=\"Ali\"\n",
    "name.lower()==\"Ali\""
   ]
  },
  {
   "cell_type": "code",
   "execution_count": 47,
   "id": "4cb82083",
   "metadata": {},
   "outputs": [
    {
     "data": {
      "text/plain": [
       "True"
      ]
     },
     "execution_count": 47,
     "metadata": {},
     "output_type": "execute_result"
    }
   ],
   "source": [
    "#3\n",
    "age=22\n",
    "age>10"
   ]
  },
  {
   "cell_type": "code",
   "execution_count": 48,
   "id": "00263bc7",
   "metadata": {},
   "outputs": [
    {
     "data": {
      "text/plain": [
       "True"
      ]
     },
     "execution_count": 48,
     "metadata": {},
     "output_type": "execute_result"
    }
   ],
   "source": [
    "age==22"
   ]
  },
  {
   "cell_type": "code",
   "execution_count": 49,
   "id": "dae2f033",
   "metadata": {},
   "outputs": [
    {
     "data": {
      "text/plain": [
       "True"
      ]
     },
     "execution_count": 49,
     "metadata": {},
     "output_type": "execute_result"
    }
   ],
   "source": [
    "age<30\n"
   ]
  },
  {
   "cell_type": "code",
   "execution_count": 50,
   "id": "ff3539fa",
   "metadata": {},
   "outputs": [
    {
     "data": {
      "text/plain": [
       "True"
      ]
     },
     "execution_count": 50,
     "metadata": {},
     "output_type": "execute_result"
    }
   ],
   "source": [
    "age>=20 and age<30"
   ]
  },
  {
   "cell_type": "code",
   "execution_count": 51,
   "id": "2c64cdbc",
   "metadata": {},
   "outputs": [
    {
     "data": {
      "text/plain": [
       "False"
      ]
     },
     "execution_count": 51,
     "metadata": {},
     "output_type": "execute_result"
    }
   ],
   "source": [
    "age>=22 and age>=25 "
   ]
  },
  {
   "cell_type": "code",
   "execution_count": 52,
   "id": "c282449f",
   "metadata": {},
   "outputs": [
    {
     "data": {
      "text/plain": [
       "True"
      ]
     },
     "execution_count": 52,
     "metadata": {},
     "output_type": "execute_result"
    }
   ],
   "source": [
    "#5\n",
    "item=[\"apples\",\"Bananas\",\"Oranges\"]\n",
    "\"apples\" in item"
   ]
  },
  {
   "cell_type": "code",
   "execution_count": 53,
   "id": "4770a096",
   "metadata": {},
   "outputs": [
    {
     "data": {
      "text/plain": [
       "True"
      ]
     },
     "execution_count": 53,
     "metadata": {},
     "output_type": "execute_result"
    }
   ],
   "source": [
    "\"Bananas\" in item"
   ]
  },
  {
   "cell_type": "code",
   "execution_count": 54,
   "id": "ce72edb5",
   "metadata": {},
   "outputs": [
    {
     "data": {
      "text/plain": [
       "False"
      ]
     },
     "execution_count": 54,
     "metadata": {},
     "output_type": "execute_result"
    }
   ],
   "source": [
    "#6\n",
    "\"Mangoes\" in item"
   ]
  },
  {
   "cell_type": "code",
   "execution_count": 55,
   "id": "d539231c",
   "metadata": {},
   "outputs": [
    {
     "data": {
      "text/plain": [
       "False"
      ]
     },
     "execution_count": 55,
     "metadata": {},
     "output_type": "execute_result"
    }
   ],
   "source": [
    "\"Apples\" in item"
   ]
  },
  {
   "cell_type": "code",
   "execution_count": 60,
   "id": "19c0c843",
   "metadata": {},
   "outputs": [
    {
     "name": "stdout",
     "output_type": "stream",
     "text": [
      "You are old enough to vote!\n",
      "Have you registered for vote yet?\n"
     ]
    }
   ],
   "source": [
    "age=20\n",
    "if age>=18:\n",
    "    print(\"You are old enough to vote!\")\n",
    "    print(\"Have you registered for vote yet?\")"
   ]
  },
  {
   "cell_type": "code",
   "execution_count": 3,
   "id": "c8ac2fcc",
   "metadata": {},
   "outputs": [
    {
     "name": "stdout",
     "output_type": "stream",
     "text": [
      "You are too young to vote!\n",
      "Please registere for vote as soon as possible\n"
     ]
    }
   ],
   "source": [
    "age=17\n",
    "if age<18:\n",
    "    \n",
    "    print(\"You are too young to vote!\")\n",
    "    print(\"Please registere for vote as soon as possible\")"
   ]
  },
  {
   "cell_type": "code",
   "execution_count": 8,
   "id": "ecad613a",
   "metadata": {},
   "outputs": [
    {
     "name": "stdout",
     "output_type": "stream",
     "text": [
      "Your addmission cost is $5\n"
     ]
    }
   ],
   "source": [
    "age=15\n",
    "if age<4:\n",
    "    print(\"Your addmission cost is $0\")\n",
    "elif age<18:\n",
    "    print(\"Your addmission cost is $5\")\n",
    "else:\n",
    "    print(\"Your addmission cost is $10\")"
   ]
  },
  {
   "cell_type": "code",
   "execution_count": 13,
   "id": "6732f413",
   "metadata": {},
   "outputs": [
    {
     "name": "stdout",
     "output_type": "stream",
     "text": [
      "Your admission cost is $5.\n"
     ]
    }
   ],
   "source": [
    "age=15\n",
    "price=0\n",
    "if age<4:\n",
    "    price=0\n",
    "elif age<18:\n",
    "    price=5\n",
    "else:\n",
    "    price=10\n",
    "    \n",
    "print(\"Your admission cost is $\"+str(price)+\".\")    "
   ]
  },
  {
   "cell_type": "code",
   "execution_count": 15,
   "id": "bbaad5ed",
   "metadata": {},
   "outputs": [
    {
     "name": "stdout",
     "output_type": "stream",
     "text": [
      "Your admission cost is $5.\n"
     ]
    }
   ],
   "source": [
    "age=75\n",
    "price=0\n",
    "if age<4:\n",
    "    price=0\n",
    "elif age<18:\n",
    "    price=5\n",
    "elif age<65:\n",
    "    price=10\n",
    "elif age>=65:\n",
    "    price=5\n",
    "print(\"Your admission cost is $\"+str(price)+\".\")   "
   ]
  },
  {
   "cell_type": "code",
   "execution_count": 17,
   "id": "ea37a0fc",
   "metadata": {},
   "outputs": [
    {
     "name": "stdout",
     "output_type": "stream",
     "text": [
      "Adding mushrooms.\n",
      "\n",
      "Finished making your pizza!\n"
     ]
    }
   ],
   "source": [
    "requested_toppings = ['mushrooms', 'extra cheese']\n",
    "if 'mushrooms' in requested_toppings:\n",
    "     print(\"Adding mushrooms.\")\n",
    "elif 'pepperoni' in requested_toppings:\n",
    "     print(\"Adding pepperoni.\")\n",
    "elif 'extra cheese' in requested_toppings:\n",
    "     print(\"Adding extra cheese.\")\n",
    " \n",
    "print(\"\\nFinished making your pizza!\")"
   ]
  },
  {
   "cell_type": "code",
   "execution_count": 19,
   "id": "176482dd",
   "metadata": {},
   "outputs": [
    {
     "name": "stdout",
     "output_type": "stream",
     "text": [
      "Adding mushrooms.\n",
      "Adding extra cheese.\n",
      "\n",
      "Finished making your pizza!\n"
     ]
    }
   ],
   "source": [
    "requested_toppings = ['mushrooms', 'extra cheese']\n",
    "if 'mushrooms' in requested_toppings:\n",
    "     print(\"Adding mushrooms.\")\n",
    "if 'pepperoni' in requested_toppings:\n",
    "     print(\"Adding pepperoni.\")\n",
    "if 'extra cheese' in requested_toppings:\n",
    "     print(\"Adding extra cheese.\")\n",
    " \n",
    "print(\"\\nFinished making your pizza!\")"
   ]
  },
  {
   "cell_type": "code",
   "execution_count": 40,
   "id": "e2a955be",
   "metadata": {},
   "outputs": [
    {
     "name": "stdout",
     "output_type": "stream",
     "text": [
      "Player just earned 5 points\n"
     ]
    }
   ],
   "source": [
    "#5.3\n",
    "#Alien Colors #1: Imagine an alien was just shot down in a game. Create a variable called alien_color and assign it a value of 'green', 'yellow', or 'red'.\n",
    "#• Write an if statement to test whether the alien’s color is green. If it is, print a message that the player just earned 5 points.\n",
    "#• Write one version of this program that passes the if test and another that fails. (The version that fails will have no output.)\n",
    "\n",
    "alien_color=[\"green\",'yellow','red']\n",
    "if \"green\" in alien_color:\n",
    "    print(\"Player just earned 5 points\")\n",
    "else:    \n",
    "    print(\"\")"
   ]
  },
  {
   "cell_type": "code",
   "execution_count": 48,
   "id": "037cf0d6",
   "metadata": {},
   "outputs": [
    {
     "name": "stdout",
     "output_type": "stream",
     "text": [
      "Player just earned 5 points for shooting the alien!\n"
     ]
    }
   ],
   "source": [
    "#5.4\n",
    "#Alien Colors #2: Choose a color for an alien as you did in Exercise 5-3, and write an if-else chain.\n",
    "#• If the alien’s color is green, print a statement that the player just earned 5 points for shooting the alien.\n",
    "#• If the alien’s color isn’t green, print a statement that the player just earned 10 points.\n",
    "alien_color=['green','yellow','red']\n",
    "if \"green\" in alien_color:\n",
    "    print(\"Player just earned 5 points for shooting the alien!\")\n",
    "else:    \n",
    "    print(\"Player just earned 10 points\")"
   ]
  },
  {
   "cell_type": "code",
   "execution_count": 49,
   "id": "662d8224",
   "metadata": {},
   "outputs": [
    {
     "name": "stdout",
     "output_type": "stream",
     "text": [
      "Player just earned 5 points for shooting the alien!\n",
      "Player just earned 10 points\n",
      "Player just earned 15 points\n"
     ]
    }
   ],
   "source": [
    "#5.5\n",
    "#Alien Colors #3: Turn your if-else chain from Exercise 5-4 into an if-elif-else chain.\n",
    "#• If the alien is green, print a message that the player earned 5 points.\n",
    "#• If the alien is yellow, print a message that the player earned 10 points.\n",
    "#• If the alien is red, print a message that the player earned 15 points.\n",
    "\n",
    "alien_color=['green','yellow','red']\n",
    "if \"green\" in alien_color:\n",
    "    print(\"Player just earned 5 points for shooting the alien!\")\n",
    "if \"yellow\" in alien_color:    \n",
    "    print(\"Player just earned 10 points\")\n",
    "if \"red\" in alien_color:    \n",
    "    print(\"Player just earned 15 points\")    "
   ]
  },
  {
   "cell_type": "code",
   "execution_count": 56,
   "id": "9ccb0b09",
   "metadata": {},
   "outputs": [
    {
     "name": "stdout",
     "output_type": "stream",
     "text": [
      "You are a adult.\n"
     ]
    }
   ],
   "source": [
    "#5.6\n",
    "#Stages of Life: Write an if-elif-else chain that determines a person’s stage of life. Set a value for the variable age, and then:\n",
    "#• If the person is less than 2 years old, print a message that the person is a baby.\n",
    "#• If the person is at least 2 years old but less than 4, print a message that the person is a toddler.\n",
    "#• If the person is at least 4 years old but less than 13, print a message that the person is a kid.\n",
    "#• If the person is at least 13 years old but less than 20, print a message that the person is a teenager.\n",
    "#• If the person is at least 20 years old but less than 65, print a message that the person is an adult.\n",
    "#• If the person is age 65 or older, print a message that the person is an elder.\n",
    "\n",
    "age=23\n",
    "if age<2:\n",
    "    print(\"You are a baby.\")\n",
    "elif age<=2 or age<4:\n",
    "    print(\"You are a toddler.\")\n",
    "elif age<=4 or age<13:\n",
    "    print(\"You are a kid.\")\n",
    "elif age<=13 or age<20:\n",
    "    print(\"You are a teenager.\")    \n",
    "elif age<=20 or age<65:\n",
    "    print(\"You are a adult.\")  \n",
    "else:\n",
    "    print(\"You are a elder.\")      \n",
    "    "
   ]
  },
  {
   "cell_type": "code",
   "execution_count": 1,
   "id": "c699f158",
   "metadata": {},
   "outputs": [
    {
     "name": "stdout",
     "output_type": "stream",
     "text": [
      "You really like Apples!\n",
      "You really like Mangoes!\n",
      "You really like Oranges!\n",
      "You really like Bananas!\n",
      "You really like Grapes!\n"
     ]
    }
   ],
   "source": [
    "#5.7 \n",
    "#Favorite Fruit: Make a list of your favorite fruits, and then write a series of independent if statements that check for certain fruits in your list.\n",
    "#• Make a list of your three favorite fruits and call it favorite_fruits.\n",
    "#• Write five if statements. Each should check whether a certain kind of fruit is in your list. If the fruit is in your list, the if block should print a statement, such as You really like bananas!\n",
    "\n",
    "favorite_fruits=[\"Apples\",\"Mangoes\",\"Oranges\",\"Bananas\",\"Grapes\"]\n",
    "if \"Apples\" in favorite_fruits:\n",
    "    print(\"You really like Apples!\")\n",
    "if \"Mangoes\" in favorite_fruits:\n",
    "    print(\"You really like Mangoes!\")\n",
    "if \"Oranges\" in favorite_fruits:\n",
    "    print(\"You really like Oranges!\")\n",
    "if \"Bananas\" in favorite_fruits:\n",
    "    print(\"You really like Bananas!\")\n",
    "if \"Grapes\" in favorite_fruits:\n",
    "    print(\"You really like Grapes!\")    "
   ]
  },
  {
   "cell_type": "code",
   "execution_count": 3,
   "id": "68b67ee2",
   "metadata": {},
   "outputs": [
    {
     "name": "stdout",
     "output_type": "stream",
     "text": [
      "You really like Apples!\n",
      "You really like Mangoes!\n",
      "You really like Oranges!\n",
      "You don't like Bananas\n",
      "You don't like Grapes\n"
     ]
    }
   ],
   "source": [
    "favorite_fruits=[\"Apples\",\"Mangoes\",\"Oranges\"]\n",
    "if \"Apples\" in favorite_fruits:\n",
    "    print(\"You really like Apples!\")\n",
    "else:\n",
    "    print(\"You don't like Apples\")\n",
    "if \"Mangoes\" in favorite_fruits:\n",
    "    print(\"You really like Mangoes!\")\n",
    "else:\n",
    "    print(\"You don't like Mangoes\")\n",
    "if \"Oranges\" in favorite_fruits:\n",
    "    print(\"You really like Oranges!\")\n",
    "else:\n",
    "    print(\"You don't like Oranges\")  \n",
    "if \"Bananas\" in favorite_fruits:\n",
    "    print(\"You really like Bananas!\")\n",
    "else:\n",
    "    print(\"You don't like Bananas\")    \n",
    "if \"Grapes\" in favorite_fruits:\n",
    "    print(\"You really like Grapes!\")     \n",
    "else:\n",
    "    print(\"You don't like Grapes\")"
   ]
  },
  {
   "cell_type": "code",
   "execution_count": 5,
   "id": "81553467",
   "metadata": {},
   "outputs": [
    {
     "name": "stdout",
     "output_type": "stream",
     "text": [
      "Adding mushrooms.\n",
      "Adding green peppers.\n",
      "Adding extra cheese.\n",
      "Adding kabab.\n",
      "\n",
      "Finished making your pizza!\n"
     ]
    }
   ],
   "source": [
    "requested_toppings = ['mushrooms', 'green peppers', 'extra cheese',\"kabab\"]\n",
    "for requested_topping in requested_toppings:\n",
    " print(\"Adding \" + requested_topping + \".\")\n",
    "print(\"\\nFinished making your pizza!\")"
   ]
  },
  {
   "cell_type": "code",
   "execution_count": 8,
   "id": "aba51a07",
   "metadata": {},
   "outputs": [
    {
     "name": "stdout",
     "output_type": "stream",
     "text": [
      "Adding mushrooms.\n",
      "Sorry, we are out of green peppers right now!!\n",
      "Adding extra cheese.\n",
      "Adding kabab.\n",
      "\n",
      "Finished making your pizza!\n"
     ]
    }
   ],
   "source": [
    "requested_toppings = ['mushrooms', 'green peppers', 'extra cheese',\"kabab\"]\n",
    "for requested_topping in requested_toppings:\n",
    "    if requested_topping==\"green peppers\":\n",
    "        print(\"Sorry, we are out of green peppers right now!!\")\n",
    "    else:    \n",
    "         print(\"Adding \" + requested_topping + \".\")\n",
    "print(\"\\nFinished making your pizza!\")"
   ]
  },
  {
   "cell_type": "code",
   "execution_count": 12,
   "id": "3f5b1256",
   "metadata": {},
   "outputs": [
    {
     "name": "stdout",
     "output_type": "stream",
     "text": [
      "Adding mushrooms.\n",
      "Sorry we don't havefrench fries.\n",
      "Adding extra cheese.\n",
      "\n",
      "Finished making your pizza!\n"
     ]
    }
   ],
   "source": [
    "available_toppings = ['mushrooms', 'olives', 'green peppers', 'pepperoni', 'pineapple', 'extra cheese']\n",
    "requested_toppings = ['mushrooms', 'french fries', 'extra cheese']\n",
    "for requested_topping in requested_toppings:\n",
    "    if requested_topping in available_toppings:    \n",
    "                    print(\"Adding \"+requested_topping+\".\") \n",
    "    else:\n",
    "        print(\"Sorry we don't have\"+requested_topping+\".\")\n",
    "print(\"\\nFinished making your pizza!\")        "
   ]
  },
  {
   "cell_type": "code",
   "execution_count": 13,
   "id": "32a16912",
   "metadata": {},
   "outputs": [
    {
     "name": "stdout",
     "output_type": "stream",
     "text": [
      "Hello Dildar, thank you for logging in again!\n",
      "Hello Ali, thank you for logging in again!\n",
      "Hello Asad, thank you for logging in again!\n",
      "Hello Admin, would you like to see a status report?\n",
      "Hello Aamir, thank you for logging in again!\n"
     ]
    }
   ],
   "source": [
    "#5.8\n",
    "#Hello Admin: Make a list of five or more usernames, including the name 'admin'. Imagine you are writing code that will print a greeting to each user after they log in to a website. Loop through the list, and print a greeting to each user:\n",
    "#• If the username is 'admin', print a special greeting, such as Hello admin, would you like to see a status report?\n",
    "#• Otherwise, print a generic greeting, such as Hello Eric, thank you for logging in again!\n",
    "\n",
    "user_name=[\"Dildar\",\"Ali\",'Asad',\"Admin\",\"Aamir\"]\n",
    "for names in user_name:\n",
    "    if names==\"Admin\":\n",
    "        print(\"Hello Admin, would you like to see a status report?\")\n",
    "    else:\n",
    "        print('Hello '+names.title()+\", thank you for logging in again!\")"
   ]
  },
  {
   "cell_type": "code",
   "execution_count": 33,
   "id": "b2523f1b",
   "metadata": {},
   "outputs": [
    {
     "name": "stdout",
     "output_type": "stream",
     "text": [
      "We need to find some users!\n"
     ]
    }
   ],
   "source": [
    "#5-9. No Users: Add an if test to hello_admin.py to make sure the list of users is not empty.\n",
    "#• If the list is empty, print the message We need to find some users!\n",
    "#• Remove all of the usernames from your list, and make sure the correct message is printed.\n",
    "\n",
    "user_name=[]\n",
    "for names in user_name:\n",
    "    if names==\"Admin\":\n",
    "        print(\"Hello Admin, would you like to see a status report?\")\n",
    "    else:\n",
    "        print('Hello '+names.title()+\", thank you for logging in again!\")\n",
    "        \n",
    "print(\"We need to find some users!\")"
   ]
  },
  {
   "cell_type": "code",
   "execution_count": 10,
   "id": "6c592651",
   "metadata": {},
   "outputs": [
    {
     "name": "stdout",
     "output_type": "stream",
     "text": [
      "Ali is available.\n",
      "Asad is available.\n",
      "Need to enter Dildar in new username.\n",
      "Need to enter Bilal in new username.\n",
      "Nasir is available.\n"
     ]
    }
   ],
   "source": [
    "#5-10\n",
    "#Checking Usernames: Do the following to create a program that simulates how websites ensure that everyone has a unique username.\n",
    "#• Make a list of five or more usernames called current_users.\n",
    "#• Make another list of five usernames called new_users. Make sure one or two of the new usernames are also in the current_users list.\n",
    "#• Loop through the new_users list to see if each new username has already been used. If it has, print a message that the person will need to enter a new username. If a username has not been used, print a message saying that the username is available.\n",
    "\n",
    "current_users=[\"Dildar\",\"Yameen\",\"Khadim\",\"Bilal\",\"Aamir\"]\n",
    "new_users=[\"Ali\",\"Asad\",\"Dildar\",\"Bilal\",\"Nasir\"]\n",
    "for names in new_users:\n",
    "    if names in current_users:\n",
    "        print(\"Need to enter \"+names+\" in new username.\")\n",
    "    else:\n",
    "        print(names+\" is available.\")"
   ]
  },
  {
   "cell_type": "code",
   "execution_count": 36,
   "id": "47f332de",
   "metadata": {},
   "outputs": [
    {
     "name": "stdout",
     "output_type": "stream",
     "text": [
      "1st\n",
      "2nd\n",
      "3rd\n",
      "4th\n",
      "5th\n",
      "6th\n",
      "7th\n",
      "8th\n",
      "9th\n"
     ]
    }
   ],
   "source": [
    "#5.11\n",
    "#Ordinal Numbers: Ordinal numbers indicate their position in a list, such as 1st or 2nd. Most ordinal numbers end in th, except 1, 2, and 3.\n",
    "#• Store the numbers 1 through 9 in a list.\n",
    "#• Loop through the list.\n",
    "#• Use an if-elif-else chain inside the loop to print the proper ordinal ending for each number. Your output should read \"1st 2nd 3rd 4th 5th 6th 7th 8th 9th\", and each result should be on a separate line.\n",
    "\n",
    "numbers = list(range(1,10))\n",
    "\n",
    "for number in numbers:\n",
    "    if number == 1:\n",
    "        print(\"1st\")\n",
    "    elif number == 2:\n",
    "        print(\"2nd\")\n",
    "    elif number == 3:\n",
    "        print(\"3rd\")\n",
    "    else:\n",
    "        print(str(number) + \"th\")\n",
    "\n"
   ]
  },
  {
   "cell_type": "code",
   "execution_count": null,
   "id": "0c5edc77",
   "metadata": {},
   "outputs": [],
   "source": [
    "#                                    THE END OF CH#05"
   ]
  }
 ],
 "metadata": {
  "kernelspec": {
   "display_name": "Python 3 (ipykernel)",
   "language": "python",
   "name": "python3"
  },
  "language_info": {
   "codemirror_mode": {
    "name": "ipython",
    "version": 3
   },
   "file_extension": ".py",
   "mimetype": "text/x-python",
   "name": "python",
   "nbconvert_exporter": "python",
   "pygments_lexer": "ipython3",
   "version": "3.9.12"
  }
 },
 "nbformat": 4,
 "nbformat_minor": 5
}
